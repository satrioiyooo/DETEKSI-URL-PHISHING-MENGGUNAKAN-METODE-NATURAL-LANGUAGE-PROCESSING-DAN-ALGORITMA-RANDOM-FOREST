{
 "cells": [
  {
   "cell_type": "markdown",
   "id": "aced36c7-d0a1-4b16-9a7c-7f8a63aebe03",
   "metadata": {},
   "source": [
    "# Deteksi Url Pishing"
   ]
  },
  {
   "cell_type": "markdown",
   "id": "706ac6ac-3ac3-46d4-8009-4b2528659aa7",
   "metadata": {},
   "source": [
    "### A. Install dan Import Library"
   ]
  },
  {
   "cell_type": "code",
   "execution_count": 1,
   "id": "55ce258d-66ed-44a8-a844-2a3fbbbc2c5b",
   "metadata": {},
   "outputs": [
    {
     "name": "stdout",
     "output_type": "stream",
     "text": [
      "Requirement already satisfied: pandas in c:\\users\\satrio\\appdata\\local\\programs\\python\\python313\\lib\\site-packages (2.2.3)\n",
      "Requirement already satisfied: numpy in c:\\users\\satrio\\appdata\\local\\programs\\python\\python313\\lib\\site-packages (2.2.4)\n",
      "Requirement already satisfied: tldextract in c:\\users\\satrio\\appdata\\local\\programs\\python\\python313\\lib\\site-packages (5.1.3)\n",
      "Requirement already satisfied: matplotlib in c:\\users\\satrio\\appdata\\local\\programs\\python\\python313\\lib\\site-packages (3.10.1)\n",
      "Requirement already satisfied: seaborn in c:\\users\\satrio\\appdata\\local\\programs\\python\\python313\\lib\\site-packages (0.13.2)\n",
      "Requirement already satisfied: scikit-learn in c:\\users\\satrio\\appdata\\local\\programs\\python\\python313\\lib\\site-packages (1.6.1)\n",
      "Requirement already satisfied: scipy in c:\\users\\satrio\\appdata\\local\\programs\\python\\python313\\lib\\site-packages (1.15.2)\n",
      "Requirement already satisfied: python-dateutil>=2.8.2 in c:\\users\\satrio\\appdata\\local\\programs\\python\\python313\\lib\\site-packages (from pandas) (2.9.0.post0)\n",
      "Requirement already satisfied: pytz>=2020.1 in c:\\users\\satrio\\appdata\\local\\programs\\python\\python313\\lib\\site-packages (from pandas) (2025.2)\n",
      "Requirement already satisfied: tzdata>=2022.7 in c:\\users\\satrio\\appdata\\local\\programs\\python\\python313\\lib\\site-packages (from pandas) (2025.2)\n",
      "Requirement already satisfied: idna in c:\\users\\satrio\\appdata\\local\\programs\\python\\python313\\lib\\site-packages (from tldextract) (3.10)\n",
      "Requirement already satisfied: requests>=2.1.0 in c:\\users\\satrio\\appdata\\local\\programs\\python\\python313\\lib\\site-packages (from tldextract) (2.32.3)\n",
      "Requirement already satisfied: requests-file>=1.4 in c:\\users\\satrio\\appdata\\local\\programs\\python\\python313\\lib\\site-packages (from tldextract) (2.1.0)\n",
      "Requirement already satisfied: filelock>=3.0.8 in c:\\users\\satrio\\appdata\\local\\programs\\python\\python313\\lib\\site-packages (from tldextract) (3.18.0)\n",
      "Requirement already satisfied: contourpy>=1.0.1 in c:\\users\\satrio\\appdata\\local\\programs\\python\\python313\\lib\\site-packages (from matplotlib) (1.3.1)\n",
      "Requirement already satisfied: cycler>=0.10 in c:\\users\\satrio\\appdata\\local\\programs\\python\\python313\\lib\\site-packages (from matplotlib) (0.12.1)\n",
      "Requirement already satisfied: fonttools>=4.22.0 in c:\\users\\satrio\\appdata\\local\\programs\\python\\python313\\lib\\site-packages (from matplotlib) (4.56.0)\n",
      "Requirement already satisfied: kiwisolver>=1.3.1 in c:\\users\\satrio\\appdata\\local\\programs\\python\\python313\\lib\\site-packages (from matplotlib) (1.4.8)\n",
      "Requirement already satisfied: packaging>=20.0 in c:\\users\\satrio\\appdata\\local\\programs\\python\\python313\\lib\\site-packages (from matplotlib) (24.2)\n",
      "Requirement already satisfied: pillow>=8 in c:\\users\\satrio\\appdata\\local\\programs\\python\\python313\\lib\\site-packages (from matplotlib) (11.1.0)\n",
      "Requirement already satisfied: pyparsing>=2.3.1 in c:\\users\\satrio\\appdata\\local\\programs\\python\\python313\\lib\\site-packages (from matplotlib) (3.2.3)\n",
      "Requirement already satisfied: joblib>=1.2.0 in c:\\users\\satrio\\appdata\\local\\programs\\python\\python313\\lib\\site-packages (from scikit-learn) (1.4.2)\n",
      "Requirement already satisfied: threadpoolctl>=3.1.0 in c:\\users\\satrio\\appdata\\local\\programs\\python\\python313\\lib\\site-packages (from scikit-learn) (3.6.0)\n",
      "Requirement already satisfied: six>=1.5 in c:\\users\\satrio\\appdata\\local\\programs\\python\\python313\\lib\\site-packages (from python-dateutil>=2.8.2->pandas) (1.17.0)\n",
      "Requirement already satisfied: charset-normalizer<4,>=2 in c:\\users\\satrio\\appdata\\local\\programs\\python\\python313\\lib\\site-packages (from requests>=2.1.0->tldextract) (3.4.1)\n",
      "Requirement already satisfied: urllib3<3,>=1.21.1 in c:\\users\\satrio\\appdata\\local\\programs\\python\\python313\\lib\\site-packages (from requests>=2.1.0->tldextract) (2.3.0)\n",
      "Requirement already satisfied: certifi>=2017.4.17 in c:\\users\\satrio\\appdata\\local\\programs\\python\\python313\\lib\\site-packages (from requests>=2.1.0->tldextract) (2025.1.31)\n"
     ]
    },
    {
     "name": "stderr",
     "output_type": "stream",
     "text": [
      "\n",
      "[notice] A new release of pip is available: 24.3.1 -> 25.2\n",
      "[notice] To update, run: python.exe -m pip install --upgrade pip\n"
     ]
    }
   ],
   "source": [
    "!pip install pandas numpy tldextract matplotlib seaborn scikit-learn scipy\n"
   ]
  },
  {
   "cell_type": "code",
   "execution_count": 2,
   "id": "1d154bcb-f9ce-477b-8ba4-418c8c7e1930",
   "metadata": {},
   "outputs": [],
   "source": [
    "import pandas as pd\n",
    "import numpy as np\n",
    "import re\n",
    "import tldextract\n",
    "import string\n",
    "import matplotlib.pyplot as plt\n",
    "import seaborn as sns\n",
    "from sklearn.feature_extraction.text import TfidfVectorizer\n",
    "from sklearn.ensemble import RandomForestClassifier\n",
    "from sklearn.model_selection import train_test_split, StratifiedKFold\n",
    "from sklearn.metrics import accuracy_score, classification_report, confusion_matrix\n",
    "from scipy.sparse import hstack"
   ]
  },
  {
   "cell_type": "markdown",
   "id": "bc7deb85-08d0-4f6c-890e-dac277db1a74",
   "metadata": {},
   "source": [
    "### B. Load Dataset"
   ]
  },
  {
   "cell_type": "code",
   "execution_count": 3,
   "id": "831e647e-4f34-495e-a15c-72cdd250f69b",
   "metadata": {},
   "outputs": [
    {
     "name": "stdout",
     "output_type": "stream",
     "text": [
      "Dataset loaded successfully.\n"
     ]
    }
   ],
   "source": [
    "# Load dataset with memory optimization\n",
    "df = pd.read_csv('new_data_urls.csv', dtype={'url': 'string', 'status': 'int8'})\n",
    "print(\"Dataset loaded successfully.\")"
   ]
  },
  {
   "cell_type": "code",
   "execution_count": 4,
   "id": "5dbd79eb-6cba-42d7-9086-b4e34433a2ce",
   "metadata": {},
   "outputs": [
    {
     "name": "stdout",
     "output_type": "stream",
     "text": [
      "Dataset Info:\n",
      "<class 'pandas.core.frame.DataFrame'>\n",
      "RangeIndex: 822010 entries, 0 to 822009\n",
      "Data columns (total 2 columns):\n",
      " #   Column  Non-Null Count   Dtype \n",
      "---  ------  --------------   ----- \n",
      " 0   url     822010 non-null  string\n",
      " 1   status  822010 non-null  int8  \n",
      "dtypes: int8(1), string(1)\n",
      "memory usage: 7.1 MB\n"
     ]
    }
   ],
   "source": [
    "# Check dataset summary\n",
    "print(\"Dataset Info:\")\n",
    "df.info()"
   ]
  },
  {
   "cell_type": "markdown",
   "id": "25f28be8-5dce-408f-b20a-1196b2ea0337",
   "metadata": {},
   "source": [
    "### C. Preprocessing Awal"
   ]
  },
  {
   "cell_type": "code",
   "execution_count": 5,
   "id": "ce126d3a-7ea5-4c77-ac7b-fbb4188e93ac",
   "metadata": {},
   "outputs": [
    {
     "name": "stdout",
     "output_type": "stream",
     "text": [
      "Missing Values:\n",
      "url       0\n",
      "status    0\n",
      "dtype: int64\n"
     ]
    }
   ],
   "source": [
    "# Check for missing values\n",
    "print(\"Missing Values:\")\n",
    "print(df.isna().sum())"
   ]
  },
  {
   "cell_type": "code",
   "execution_count": 6,
   "id": "46f3d935-b71f-4edf-9719-521d4a73556f",
   "metadata": {},
   "outputs": [],
   "source": [
    "# Drop missing values\n",
    "df.dropna(inplace=True)"
   ]
  },
  {
   "cell_type": "markdown",
   "id": "49cbb7cf-44a2-49f6-935c-da25516741a4",
   "metadata": {},
   "source": [
    "### D. Ekstraksi Fitur Kustom dari URL"
   ]
  },
  {
   "cell_type": "code",
   "execution_count": 7,
   "id": "7c2b4d75-e93c-49e9-a64b-40dded24bb7e",
   "metadata": {},
   "outputs": [],
   "source": [
    "# Extract domain-related features efficiently\n",
    "def extract_features(url):\n",
    "    extracted = tldextract.extract(url)\n",
    "    domain = extracted.domain\n",
    "    subdomain = extracted.subdomain\n",
    "    \n",
    "    return [\n",
    "        len(url),  # URL length\n",
    "        len(domain),  # Domain length\n",
    "        sum(c.isdigit() for c in url),  # Number of digits\n",
    "        sum(c in string.punctuation for c in url),  # Number of special characters\n",
    "        any(word in url.lower() for word in ['secure', 'account', 'login', 'banking', 'confirm', 'verify', 'update']),  # Suspicious words\n",
    "        1 if url.startswith('https') else 0,  # HTTPS presence\n",
    "        subdomain.count('.')  # Number of subdomains\n",
    "    ]"
   ]
  },
  {
   "cell_type": "code",
   "execution_count": 8,
   "id": "ab75656a-df50-4192-ab21-a1c482764b05",
   "metadata": {},
   "outputs": [],
   "source": [
    "# Apply feature extraction efficiently\n",
    "feature_names = ['url_length', 'domain_length', 'num_digits', 'num_special_chars', 'has_suspicious_word', 'is_https', 'num_subdomains']\n",
    "X_numeric = np.array([extract_features(url) for url in df['url']], dtype=np.float32)"
   ]
  },
  {
   "cell_type": "markdown",
   "id": "1c2d6e69-f045-490a-bcd3-1835e48705a0",
   "metadata": {},
   "source": [
    "### E. Ekstraksi Fitur TF-IDF"
   ]
  },
  {
   "cell_type": "code",
   "execution_count": 9,
   "id": "f655cbeb-8891-45c1-99a0-9b3644a2e5ac",
   "metadata": {},
   "outputs": [],
   "source": [
    "# Convert URLs into TF-IDF features efficiently\n",
    "vectorizer = TfidfVectorizer(max_features=5000, stop_words='english', ngram_range=(1,3))\n",
    "X_tfidf = vectorizer.fit_transform(df['url'])"
   ]
  },
  {
   "cell_type": "markdown",
   "id": "d54f5cb1-4f56-4506-accf-704d1879b9d5",
   "metadata": {},
   "source": [
    "### F. Gabungkan Fitur Numerik + TF-IDF"
   ]
  },
  {
   "cell_type": "code",
   "execution_count": 10,
   "id": "fb43d813-c0a4-4ed8-b966-143d7b72e1ad",
   "metadata": {},
   "outputs": [],
   "source": [
    "# Combine numeric features with TF-IDF features\n",
    "X = hstack([X_numeric, X_tfidf], format='csr')\n",
    "y = df['status']"
   ]
  },
  {
   "cell_type": "markdown",
   "id": "da760605-1f3a-4e2e-8938-5cf0683c8286",
   "metadata": {},
   "source": [
    "### G. Stratified K-Fold Cross Validation"
   ]
  },
  {
   "cell_type": "code",
   "execution_count": 11,
   "id": "b06a6450-5fa6-4148-a745-2998061d8a32",
   "metadata": {},
   "outputs": [],
   "source": [
    "# Stratified K-Fold Cross Validation\n",
    "kf = StratifiedKFold(n_splits=5, shuffle=True, random_state=42)\n",
    "accuracies = []\n",
    "for train_index, test_index in kf.split(X, y):\n",
    "    X_train, X_test = X[train_index], X[test_index]\n",
    "    y_train, y_test = y.iloc[train_index], y.iloc[test_index]\n",
    "    \n",
    "    # Train optimized RandomForest model\n",
    "    clf = RandomForestClassifier(n_estimators=200, max_depth=50, min_samples_split=5, min_samples_leaf=2, random_state=42, n_jobs=-1)\n",
    "    clf.fit(X_train, y_train)\n",
    "    \n",
    "    # Predictions\n",
    "    y_pred = clf.predict(X_test)\n",
    "    \n",
    "    # Evaluate model\n",
    "    accuracy = accuracy_score(y_test, y_pred)\n",
    "    accuracies.append(accuracy)"
   ]
  },
  {
   "cell_type": "code",
   "execution_count": 12,
   "id": "6a8a7a81-e13f-4b0a-a805-b06f08a8c27d",
   "metadata": {},
   "outputs": [
    {
     "name": "stdout",
     "output_type": "stream",
     "text": [
      "Data split: 5-fold Stratified Cross Validation\n",
      "Total dataset: 822010\n",
      "Train dataset size: 657608 (80.00%)\n",
      "Test dataset size: 164402 (20.00%)\n"
     ]
    }
   ],
   "source": [
    "# Print data split information\n",
    "print(f\"Data split: {kf.get_n_splits()}-fold Stratified Cross Validation\")\n",
    "print(f\"Total dataset: {len(df)}\")\n",
    "print(f\"Train dataset size: {len(train_index)} ({len(train_index)/len(df)*100:.2f}%)\")\n",
    "print(f\"Test dataset size: {len(test_index)} ({len(test_index)/len(df)*100:.2f}%)\")"
   ]
  },
  {
   "cell_type": "markdown",
   "id": "42d04a00-5f31-4c90-9bc6-5fccaf77c179",
   "metadata": {},
   "source": [
    "### H. Evaluasi Model"
   ]
  },
  {
   "cell_type": "code",
   "execution_count": 13,
   "id": "254068f6-e898-4238-8504-c89ad83987ef",
   "metadata": {},
   "outputs": [
    {
     "name": "stdout",
     "output_type": "stream",
     "text": [
      "Final Accuracy: 0.9156421454726826\n",
      "Classification Report:\n",
      "              precision    recall  f1-score   support\n",
      "\n",
      "           0       0.96      0.86      0.91     78996\n",
      "           1       0.88      0.97      0.92     85406\n",
      "\n",
      "    accuracy                           0.91    164402\n",
      "   macro avg       0.92      0.91      0.91    164402\n",
      "weighted avg       0.92      0.91      0.91    164402\n",
      "\n",
      "✅ Final Accuracy: 91.56%\n",
      "\n"
     ]
    }
   ],
   "source": [
    "# Final accuracy after cross-validation\n",
    "final_accuracy = np.mean(accuracies)\n",
    "print(\"Final Accuracy:\", final_accuracy)\n",
    "print(\"Classification Report:\")\n",
    "print(classification_report(y_test, y_pred))\n",
    "print(f\"✅ Final Accuracy: {final_accuracy*100:.2f}%\\n\")"
   ]
  },
  {
   "cell_type": "markdown",
   "id": "7ce41332-14e9-42a5-89df-de2d6694a29a",
   "metadata": {},
   "source": [
    "### Menampilkan confusion matrix"
   ]
  },
  {
   "cell_type": "code",
   "execution_count": 14,
   "id": "ebc3ae75-25eb-4b56-9173-5acc052682e0",
   "metadata": {},
   "outputs": [
    {
     "data": {
      "image/png": "[encoded data removed]",
      "text/plain": [
       "<Figure size 640x480 with 2 Axes>"
      ]
     },
     "metadata": {},
     "output_type": "display_data"
    }
   ],
   "source": [
    "# Confusion matrix\n",
    "conf_matrix = confusion_matrix(y_test, y_pred)\n",
    "sns.heatmap(conf_matrix, annot=True, fmt='d', cmap='Blues', xticklabels=['Phishing', 'Legit'], yticklabels=['Phishing', 'Legit'])\n",
    "plt.xlabel('Predicted')\n",
    "plt.ylabel('Actual')\n",
    "plt.title('Confusion Matrix')\n",
    "plt.show()"
   ]
  },
  {
   "cell_type": "markdown",
   "id": "e5b3e87f-5097-480f-891e-ed8ac01226e0",
   "metadata": {},
   "source": [
    "### I. Testing Model"
   ]
  },
  {
   "cell_type": "code",
   "execution_count": 15,
   "id": "b2dd8689-58c7-44f6-a57e-214198da40a8",
   "metadata": {},
   "outputs": [],
   "source": [
    "# Testing model with a sample URL\n",
    "def predict_url(url):\n",
    "    features = np.array([extract_features(url)], dtype=np.float32)\n",
    "    tfidf_features = vectorizer.transform([url])\n",
    "    X_sample = hstack([features, tfidf_features], format='csr')\n",
    "    prediction = clf.predict(X_sample)\n",
    "    return \"Legitimate url\" if prediction[0] == 1 else \"Possible Phishing url\""
   ]
  },
  {
   "cell_type": "code",
   "execution_count": 16,
   "id": "4838912b-753a-4244-b0be-50ba380117ea",
   "metadata": {},
   "outputs": [
    {
     "name": "stdout",
     "output_type": "stream",
     "text": [
      "The URL 'https://www.microsoft.com/id-id' is classified as: Legitimate url\n",
      "The URL 'https://upgrade-0947ameri-09.weebly.com/' is classified as: Possible Phishing url\n"
     ]
    }
   ],
   "source": [
    "# Testing model with a sample URL\n",
    "sample_url = \"https://www.microsoft.com/id-id\"\n",
    "result = predict_url(sample_url)\n",
    "print(f\"The URL '{sample_url}' is classified as: {result}\")\n",
    "\n",
    "sample_url = \"https://upgrade-0947ameri-09.weebly.com/\"\n",
    "result = predict_url(sample_url)\n",
    "print(f\"The URL '{sample_url}' is classified as: {result}\")"
   ]
  }
 ],
 "metadata": {
  "kernelspec": {
   "display_name": "Python 3 (ipykernel)",
   "language": "python",
   "name": "python3"
  },
  "language_info": {
   "codemirror_mode": {
    "name": "ipython",
    "version": 3
   },
   "file_extension": ".py",
   "mimetype": "text/x-python",
   "name": "python",
   "nbconvert_exporter": "python",
   "pygments_lexer": "ipython3",
   "version": "3.13.2"
  }
 },
 "nbformat": 4,
 "nbformat_minor": 5
}
